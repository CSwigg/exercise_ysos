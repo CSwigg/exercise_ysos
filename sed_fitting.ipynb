{
 "cells": [
  {
   "cell_type": "markdown",
   "metadata": {},
   "source": [
    "<div style=\"color: white;\">\n",
    "\n",
    "## Model Fitting: Likelihood and Chi-Squared\n",
    "\n",
    "Model fitting is the process of finding the best parameters for a model that describe observed data. Two commonly used statistical methods for this purpose are the **likelihood function** and the **chi-squared ($\\chi^2$) statistic**. These methods quantify the agreement between the model and the data, guiding the optimization of model parameters.\n",
    "\n",
    "---\n",
    "\n",
    "### Key Concepts\n",
    "\n",
    "- **Chi-Squared Statistic ($\\chi^2$)**:\n",
    "  - Measures the goodness-of-fit by summing the squared residuals normalized by their uncertainties:\n",
    "    $$\\chi^2 = \\sum_i \\frac{\\left(y_{\\text{obs},i} - y_{\\text{model},i}\\right)^2}{\\sigma_i^2}$$\n",
    "  - A smaller $\\chi^2$ indicates a better fit.\n",
    "  - **Reduced Chi-Squared ($\\chi^2_{\\text{red}}$)** accounts for degrees of freedom:\n",
    "    $$\\chi^2_{\\text{red}} = \\frac{\\chi^2}{N - p}$$\n",
    "    where $N$ is the number of data points and $p$ is the number of model parameters.\n",
    "\n",
    "- **Likelihood Function ($\\mathcal{L}$)**:\n",
    "  - Represents the probability of observing the data given a model:\n",
    "    $$\\mathcal{L}(\\theta) = \\prod_i \\frac{1}{\\sqrt{2\\pi}\\sigma_i} \\exp \\left( -\\frac{\\left(y_{\\text{obs},i} - y_{\\text{model},i}(\\theta)\\right)^2}{2\\sigma_i^2} \\right)$$\n",
    "  - In practice, the **log-likelihood** is maximized to simplify computations:\n",
    "    $$\\ln \\mathcal{L}(\\theta) = -\\frac{1}{2} \\sum_i \\left[ \\ln(2\\pi\\sigma_i^2) + \\frac{\\left(y_{\\text{obs},i} - y_{\\text{model},i}(\\theta)\\right)^2}{\\sigma_i^2} \\right]$$\n",
    "\n",
    "---\n",
    "\n",
    "### SED Fitting with SEDFitter\n",
    "\n",
    "The equations above directly relate to fitting the spectral energy distributions (SEDs) of young stellar objects (YSOs):\n",
    "\n",
    "1. **Observed Data ($y_{\\text{obs},i}$)**:\n",
    "   - Represents the photometric fluxes of YSOs measured in various filters (e.g., Gaia, 2MASS, WISE).\n",
    "   - These fluxes are the input data for the fitting process.\n",
    "\n",
    "2. **Model Predictions ($y_{\\text{model},i}$)**:\n",
    "   - Represent the theoretical fluxes predicted by the SED models for specific physical parameters, such as stellar temperature, disk mass, and extinction.\n",
    "   - The models are pre-computed and convolved with the same filter response functions as the observations.\n",
    "\n",
    "3. **Uncertainties ($\\sigma_i$)**:\n",
    "   - Correspond to the photometric errors associated with the observed fluxes.\n",
    "   - These uncertainties weigh the residuals in both $\\chi^2$ and likelihood calculations, emphasizing data points with smaller errors.\n",
    "\n",
    "In this notebook, we will use **SEDFitter** to implement this framework. By minimizing the $\\chi^2$ statistic or maximizing the likelihood function, we aim to identify the best-fitting models for the observed SEDs of YSOs. This allows us to infer their physical properties, such as the size and temperature of their central stars, the structure and mass of their circumstellar disks, and the level of extinction in their surrounding environment.\n",
    "\n",
    "</div>"
   ]
  },
  {
   "cell_type": "markdown",
   "metadata": {},
   "source": [
    "<div style=\"color: #FF4500;\">\n",
    "\n",
    "## Installing SEDFitter\n",
    "Instructions to download SEDFitter are available here: [SEDFitter Installation](https://sedfitter.readthedocs.io/en/stable/installation.html)\n",
    "\n",
    "## Downloading the SED Models\n",
    "SEDFitter only includes the code to perform the model fitting, not the models themselves. We will be using the SED models from this paper: [SED Models Paper](https://arxiv.org/abs/1703.05765)\n",
    "\n",
    "- Navigate to the following data repository: [Zenodo Repository](https://zenodo.org/records/166732)\n",
    "- Scroll and click on the file 'sp--s-i.tar.gz' (this will download to your computer).\n",
    "- Go to the location on your computer where the file downloaded.\n",
    "- Double click on the file so that it unzips/untars.\n",
    "- You should now have a folder titled 'sp--s-i' that contains `models.conf`, `parameters.fits`, `stellar.fits`, `flux.fits`, and a sub-directory titled 'convolved'.\n",
    "\n",
    "## Questions\n",
    "- If you run into any issues you can contact me at: cameren.swiggum@univie.ac.at\n",
    "- Just make sure you do this well in advance of any due date.\n",
    "\n",
    "</div>"
   ]
  },
  {
   "cell_type": "code",
   "execution_count": 2,
   "metadata": {},
   "outputs": [],
   "source": [
    "# After installing SEDFitter, you will also need to PIP install the following packages:\n",
    "# run: pip install pandas \n",
    "\n",
    "import numpy as np\n",
    "import matplotlib.pyplot as plt\n",
    "from astropy.coordinates import SkyCoord\n",
    "from astropy.io import fits\n",
    "import astropy.units as u\n",
    "import pandas as pd\n",
    "import warnings\n",
    "warnings.filterwarnings('ignore')"
   ]
  },
  {
   "cell_type": "markdown",
   "metadata": {},
   "source": [
    "## Read in the data file: 'orion_stars.csv'\n",
    "Data comes from Großschedl et al. 2019: https://www.aanda.org/articles/aa/abs/2019/02/aa32577-18/aa32577-18.html"
   ]
  },
  {
   "cell_type": "code",
   "execution_count": 3,
   "metadata": {},
   "outputs": [],
   "source": [
    "path_to_data = './orionA_stars.csv' # Change this to the path of the data file you have downloaded\n",
    "df = pd.read_csv(path_to_data)"
   ]
  },
  {
   "cell_type": "markdown",
   "metadata": {},
   "source": [
    "# Preparing the Data\n",
    "Below we must prepare our data in a specific format specified by SEDFitter, specified here: https://sedfitter.readthedocs.io/en/stable/data.html\n",
    "\n",
    "This requires us to convert our magnitudes to fluxes, in units of milli-Janskys (mJy): https://en.wikipedia.org/wiki/Jansky"
   ]
  },
  {
   "cell_type": "code",
   "execution_count": 4,
   "metadata": {},
   "outputs": [],
   "source": [
    "other_cols = ['name', 'ra', 'dec']\n",
    "filters_mags = [\n",
    "    'Jmag', 'Hmag', 'Ksmag',\n",
    "    'W1mag', 'W2mag', 'W3mag', 'W4mag'\n",
    "]\n",
    "filter_names = [\n",
    "    'J', 'H', 'Ks',\n",
    "    'W1', 'W2', 'W3', 'W4'\n",
    "]\n",
    "# Effective wavelengths (in microns) for each filter\n",
    "wavelengths = np.array([\n",
    "    1.235,  # 2MASS J band\n",
    "    1.662,  # 2MASS H band\n",
    "    2.159,  # 2MASS Ks band\n",
    "    3.4,    # WISE W1\n",
    "    4.6,    # WISE W2\n",
    "    12.0,   # WISE W3\n",
    "    22.0    # WISE W4\n",
    "])"
   ]
  },
  {
   "cell_type": "code",
   "execution_count": 5,
   "metadata": {},
   "outputs": [],
   "source": [
    "# Function to compute the flux density from the magnitude\n",
    "\n",
    "# Zero-point flux densities in Jy for each filter\n",
    "zero_point_fluxes = np.array([\n",
    "    1594,  # 2MASS J band (Jmag)\n",
    "    1024,  # 2MASS H band (Hmag)\n",
    "    666.7, # 2MASS Ks band (Ksmag)\n",
    "    309.54, # WISE W1 band\n",
    "    171.79, # WISE W2 band\n",
    "    31.674, # WISE W3 band\n",
    "    8.363  # WISE W4 band\n",
    "])\n",
    "\n",
    "# Function to convert magnitude to flux\n",
    "def mag_to_flux(mag, zero_point):\n",
    "    if np.isnan(mag):  # Handle NaNs gracefully\n",
    "        return np.nan\n",
    "    return (zero_point * 10**(-0.4 * mag))*1000\n",
    "\n",
    "# Convert magnitudes to flux densities and compute errors\n",
    "for filter_name, filter_mag, zero_point in zip(filter_names, filters_mags, zero_point_fluxes):\n",
    "    flux_col_name = f\"{filter_name}_flux\"\n",
    "    flux_err_col_name = f\"{filter_name}_flux_err\"\n",
    "    \n",
    "    # Compute flux\n",
    "    df[flux_col_name] = df[filter_mag].apply(lambda mag: mag_to_flux(mag, zero_point))\n",
    "    \n",
    "    # Compute flux error (10% of flux)\n",
    "    df[flux_err_col_name] = df[flux_col_name] * 0.10"
   ]
  },
  {
   "cell_type": "code",
   "execution_count": 6,
   "metadata": {},
   "outputs": [],
   "source": [
    "for fn in filter_names:\n",
    "    df['{}_flag'.format(fn)] = df['{}mag'.format(fn)].apply(lambda x: int(1) if pd.notnull(x) and x != 0 else int(0))"
   ]
  },
  {
   "cell_type": "code",
   "execution_count": 7,
   "metadata": {},
   "outputs": [],
   "source": [
    "fluxes = df[[f\"{filter_name}_flux\" for filter_name in filter_names]].values\n",
    "flux_errors = df[[f\"{filter_name}_flux_err\" for filter_name in filter_names]].values"
   ]
  },
  {
   "cell_type": "code",
   "execution_count": 8,
   "metadata": {},
   "outputs": [
    {
     "data": {
      "text/plain": [
       "array([ 1.235,  1.662,  2.159,  3.4  ,  4.6  , 12.   , 22.   ])"
      ]
     },
     "execution_count": 8,
     "metadata": {},
     "output_type": "execute_result"
    }
   ],
   "source": [
    "wavelengths"
   ]
  },
  {
   "cell_type": "markdown",
   "metadata": {},
   "source": [
    "# Plot an example SED"
   ]
  },
  {
   "cell_type": "code",
   "execution_count": 9,
   "metadata": {},
   "outputs": [
    {
     "data": {
      "image/png": "[encoded data removed]",
      "text/plain": [
       "<Figure size 640x480 with 1 Axes>"
      ]
     },
     "metadata": {},
     "output_type": "display_data"
    }
   ],
   "source": [
    "# Plot an example SED\n",
    "star = df.loc[df.name == 'star_10']\n",
    "valid_fluxes = star[[f\"{filter_name}_flux\" for filter_name in filter_names]].values[0]\n",
    "valid_flux_errors = star[[f\"{filter_name}_flux_err\" for filter_name in filter_names]].values[0]\n",
    "valid_flags = star[[f\"{filter_name}_flag\" for filter_name in filter_names]].values[0]\n",
    "\n",
    "# Filter out fluxes where the flag is 0\n",
    "valid_wavelengths = wavelengths[valid_flags == 1]\n",
    "valid_fluxes = valid_fluxes[valid_flags == 1]\n",
    "valid_flux_errors = valid_flux_errors[valid_flags == 1]\n",
    "\n",
    "plt.figure()\n",
    "plt.scatter(valid_wavelengths, valid_fluxes, c='r')\n",
    "plt.errorbar(valid_wavelengths, valid_fluxes, yerr=valid_flux_errors, fmt='o', c='r')\n",
    "plt.xscale('log')\n",
    "plt.yscale('log')\n",
    "plt.xlabel('Wavelength (microns)')\n",
    "plt.ylabel('Flux Density (mJy)')\n",
    "plt.xlim(-100, 100)\n",
    "plt.show()"
   ]
  },
  {
   "cell_type": "code",
   "execution_count": 10,
   "metadata": {},
   "outputs": [],
   "source": [
    "# Create a list of columns in the desired order\n",
    "all_cols = list(df.columns)\n",
    "cols_format = ['name', 'ra', 'dec'] + list(df.columns[df.columns.str.endswith('_flag')])\n",
    "for filter_name in filter_names:\n",
    "    cols_format.append(f\"{filter_name}_flux\")\n",
    "    cols_format.append(f\"{filter_name}_flux_err\")\n",
    "\n",
    "# Reorder the dataframe\n",
    "df_fmt = df[cols_format]"
   ]
  },
  {
   "cell_type": "code",
   "execution_count": 11,
   "metadata": {},
   "outputs": [],
   "source": [
    "#stars = df_fmt.iloc[0:20] # run on only the first 20 stars, good for testing\n",
    "stars = df_fmt\n",
    "stars.to_csv('stars', sep=' ', index=False, header=False) # Save to a new file in the desired format for SEDFitter"
   ]
  },
  {
   "cell_type": "code",
   "execution_count": 12,
   "metadata": {},
   "outputs": [],
   "source": [
    "from astropy import units as u\n",
    "from sedfitter import fit\n",
    "from sedfitter.extinction import Extinction\n",
    "\n",
    "# Define path to models\n",
    "model_dir = '/Users/cam/Downloads/sp--s-i/' # NOTE: Change this to the path of the models you have downloaded\n",
    "extinction_file = './kmh94.par'\n",
    "\n",
    "# Read in extinction law)\n",
    "extinction = Extinction.from_file(extinction_file, columns=[0, 3],\n",
    "                                  wav_unit=u.micron, chi_unit=u.cm**2 / u.g)"
   ]
  },
  {
   "cell_type": "markdown",
   "metadata": {},
   "source": [
    "# Run the Fitter"
   ]
  },
  {
   "cell_type": "code",
   "execution_count": null,
   "metadata": {},
   "outputs": [
    {
     "name": "stdout",
     "output_type": "stream",
     "text": [
      " ------------------------------------------------------------\n",
      "  => Model parameters\n",
      " ------------------------------------------------------------\n",
      "\n",
      "   Models              :  sp--s-i\n",
      "   Log[d] stepping     :  0.02\n",
      "   Number of distances :  40\n",
      "\n",
      " ------------------------------------------------------------\n",
      "  => Reading in convolved fluxes\n",
      " ------------------------------------------------------------\n",
      "\n",
      "Data shape=(90000, 40, 7).  use_memmap=True\n",
      "   Reading /Users/cam/Downloads/sp--s-i//convolved/2J.fits\n",
      "   Reading /Users/cam/Downloads/sp--s-i//convolved/2H.fits\n",
      "   Reading /Users/cam/Downloads/sp--s-i//convolved/2K.fits\n",
      "   Reading /Users/cam/Downloads/sp--s-i//convolved/WISE1.fits\n",
      "   Reading /Users/cam/Downloads/sp--s-i//convolved/WISE2.fits\n",
      "   Reading /Users/cam/Downloads/sp--s-i//convolved/WISE3.fits\n",
      "   Reading /Users/cam/Downloads/sp--s-i//convolved/WISE4.fits\n",
      " ------------------------------------------------------------\n",
      "  => Fitting parameters\n",
      " ------------------------------------------------------------\n",
      "\n",
      "   Minimum A_V      :     0.000 mag\n",
      "   Maximum A_V      :    40.000 mag\n",
      "   Minimum distance :     0.100 kpc\n",
      "   Maximum distance :     0.600 kpc\n",
      "\n",
      " ------------------------------------------------------------\n",
      "  => Output parameters\n",
      " ------------------------------------------------------------\n",
      "\n",
      "   File   : output.fitinfo\n",
      "   Format : F\n",
      "   Number : 6\n",
      "\n",
      " ------------------------------------------------------------\n",
      "  => Data format parameters\n",
      " ------------------------------------------------------------\n",
      "\n",
      "   Number of filters :  7\n",
      "\n",
      "\n",
      "     Filter    Wavelength    Aperture (\")   \n",
      "    ----------------------------------------\n",
      "          2J        1.24       3.00        \n",
      "          2H        1.66       3.00        \n",
      "          2K        2.16       3.00        \n",
      "       WISE1        3.35       3.00        \n",
      "       WISE2        4.60       3.00        \n",
      "       WISE3       11.56       3.00        \n",
      "       WISE4       22.09       3.00        \n",
      "\n",
      "   # Sources    CPU time (sec)    Sources/sec  \n",
      " ----------------------------------------------\n",
      "          1              1.2           0.86\n",
      "          2              2.2           0.92\n",
      "          3              3.2           0.93\n",
      "          4              4.2           0.95\n",
      "          5              5.2           0.97\n",
      "          6              6.1           0.98\n",
      "          7              7.1           0.98\n",
      "          8              8.1           0.99\n",
      "          9              9.0           1.00\n",
      "         10              9.9           1.01\n",
      "         11             10.9           1.01\n",
      "         12             11.9           1.01\n",
      "         13             12.9           1.01\n",
      "         14             13.8           1.01\n",
      "         15             14.7           1.02\n",
      "         16             15.7           1.02\n",
      "         17             16.6           1.02\n",
      "         18             17.6           1.02\n",
      "         19             18.5           1.02\n",
      "         20             19.5           1.03\n",
      "         21             20.4           1.03\n",
      "         22             21.4           1.03\n",
      "         23             22.3           1.03\n",
      "         24             23.3           1.03\n",
      "         25             24.2           1.03\n",
      "         26             25.2           1.03\n",
      "         27             26.1           1.03\n",
      "         28             27.1           1.03\n",
      "         29             28.0           1.04\n",
      "         30             28.9           1.04\n",
      "         31             29.9           1.04\n",
      "         32             30.8           1.04\n",
      "         33             31.9           1.04\n",
      "         34             32.8           1.04\n",
      "         35             33.7           1.04\n",
      "         36             34.7           1.04\n",
      "         37             35.8           1.03\n",
      "         38             36.8           1.03\n",
      "         39             37.8           1.03\n",
      "         40             38.7           1.03\n",
      "         41             39.7           1.03\n",
      "         42             40.6           1.03\n",
      "         43             41.6           1.03\n"
     ]
    }
   ],
   "source": [
    "# Define filters and apertures\n",
    "filters = ['2J', '2H', '2K', 'WISE1', 'WISE2', 'WISE3', 'WISE4'] \n",
    "#apertures = [4., 4., 4., 8., 8., 16., 22.] * u.arcsec\n",
    "apertures = [3., 3., 3., 3., 3., 3., 3.] * u.arcsec\n",
    "\n",
    "# Run the fitting\n",
    "fit('stars', filters, apertures, model_dir,\n",
    "    'output.fitinfo',\n",
    "    extinction_law=extinction,\n",
    "    distance_range=[0.1, .6] * u.kpc,\n",
    "    av_range=[0., 40.])"
   ]
  },
  {
   "cell_type": "code",
   "execution_count": null,
   "metadata": {},
   "outputs": [],
   "source": [
    "# from sedfitter import plot\n",
    "# plot(\n",
    "#     input_fits = 'output.fitinfo', \n",
    "#     output_dir = 'plots_seds'\n",
    "#     #select_format = ('A', 6)\n",
    "#     )"
   ]
  },
  {
   "cell_type": "code",
   "execution_count": null,
   "metadata": {},
   "outputs": [],
   "source": [
    "from sedfitter import write_parameters, write_parameter_ranges\n",
    "# Write out all models with a delta chi^2-chi_best^2 per datapoint < 3\n",
    "# Write out the min/max ranges corresponding to the above file\n",
    "write_parameter_ranges('output.fitinfo', 'parameter_ranges.txt',\n",
    "                       select_format=('F', 3.))"
   ]
  },
  {
   "cell_type": "code",
   "execution_count": null,
   "metadata": {},
   "outputs": [],
   "source": [
    "from astropy.io import ascii\n",
    "\n",
    "# File path\n",
    "file_path = \"parameter_ranges.txt\"\n",
    "\n",
    "# Read the file with Astropy, skipping problematic parts\n",
    "data = ascii.read(\n",
    "    file_path,\n",
    "    format=\"basic\",  # Basic ASCII format\n",
    "    guess=False,     # Don't guess the format\n",
    "    header_start=1,  # Line index for the main header (second header)\n",
    "    data_start=3     # Line index for the data (after dashed lines)\n",
    ")\n",
    "\n",
    "# Convert to Pandas DataFrame for further analysis if needed\n",
    "df_params = data.to_pandas()"
   ]
  },
  {
   "cell_type": "code",
   "execution_count": null,
   "metadata": {},
   "outputs": [],
   "source": [
    "param_names = ['chi2', 'av', 'scale', 'star.radius', 'star.temperature', 'disk.mass', 'disk.rmax', 'disk.beta', 'disk.p', 'disk.h100', 'scattering', 'inclination']\n",
    "for i, param_name in enumerate(param_names):\n",
    "    if i == 0:\n",
    "        df_params.rename(columns={\n",
    "            'min': f'{param_name}_min',\n",
    "            'best': f'{param_name}_best',\n",
    "            'max': f'{param_name}_max'\n",
    "        }, inplace=True)\n",
    "    else:\n",
    "        df_params.rename(columns={\n",
    "            f'min_{i}': f'{param_name}_min',\n",
    "            f'best_{i}': f'{param_name}_best',\n",
    "            f'max_{i}': f'{param_name}_max'\n",
    "        }, inplace=True)"
   ]
  },
  {
   "cell_type": "code",
   "execution_count": null,
   "metadata": {},
   "outputs": [],
   "source": [
    "df_final = pd.merge(stars, df_params, left_index=True, right_index=True, suffixes=('', '_y'))\n",
    "df_final = df_final.loc[:, ~df_final.columns.str.endswith('_y')]\n",
    "df_final.to_csv('final_results.csv', index=False)"
   ]
  },
  {
   "cell_type": "code",
   "execution_count": null,
   "metadata": {},
   "outputs": [],
   "source": [
    "df_final"
   ]
  },
  {
   "cell_type": "code",
   "execution_count": null,
   "metadata": {},
   "outputs": [],
   "source": [
    "for k in df_final.keys():\n",
    "    print(k)"
   ]
  },
  {
   "cell_type": "code",
   "execution_count": null,
   "metadata": {},
   "outputs": [],
   "source": [
    "plt.figure()\n",
    "plt.scatter(df_final.ra, df_final.dec, c=df_final['av_best'], s = 5, vmax = 20)\n",
    "plt.show()"
   ]
  },
  {
   "cell_type": "code",
   "execution_count": null,
   "metadata": {},
   "outputs": [],
   "source": [
    "plt.figure()\n",
    "plt.scatter(df_final['av_best'], df_final['star.temperature_best'], c='blue', s = 1)\n",
    "plt.show()"
   ]
  },
  {
   "cell_type": "code",
   "execution_count": null,
   "metadata": {},
   "outputs": [],
   "source": []
  }
 ],
 "metadata": {
  "kernelspec": {
   "display_name": "sed_env",
   "language": "python",
   "name": "python3"
  },
  "language_info": {
   "codemirror_mode": {
    "name": "ipython",
    "version": 3
   },
   "file_extension": ".py",
   "mimetype": "text/x-python",
   "name": "python",
   "nbconvert_exporter": "python",
   "pygments_lexer": "ipython3",
   "version": "3.11.10"
  }
 },
 "nbformat": 4,
 "nbformat_minor": 2
}
